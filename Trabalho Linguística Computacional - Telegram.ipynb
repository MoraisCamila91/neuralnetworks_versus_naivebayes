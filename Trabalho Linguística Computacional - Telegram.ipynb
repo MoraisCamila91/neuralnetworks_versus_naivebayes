{
 "cells": [
  {
   "cell_type": "code",
   "execution_count": 1,
   "id": "b804ae5a",
   "metadata": {
    "code_folding": [
     0
    ]
   },
   "outputs": [
    {
     "name": "stdout",
     "output_type": "stream",
     "text": [
      "1 Physical GPUs, 1 Logical GPUs\n"
     ]
    }
   ],
   "source": [
    "# alocação de espaço CPU x GPU\n",
    "\n",
    "import tensorflow as tf\n",
    "\n",
    "gpus = tf.config.list_physical_devices('GPU')\n",
    "if gpus:\n",
    "    try:\n",
    "        for gpu in gpus:\n",
    "          tf.config.experimental.set_memory_growth(gpu, True)\n",
    "        logical_gpus = tf.config.list_logical_devices('GPU')\n",
    "        print(len(gpus), \"Physical GPUs,\", len(logical_gpus), \"Logical GPUs\")\n",
    "    except RuntimeError as e:\n",
    "        # Memory growth must be set before GPUs have been initialized\n",
    "        print(e)"
   ]
  },
  {
   "cell_type": "code",
   "execution_count": 2,
   "id": "2206befe",
   "metadata": {
    "code_folding": [
     0
    ]
   },
   "outputs": [],
   "source": [
    "# warnings\n",
    "import warnings\n",
    "warnings.filterwarnings(\"ignore\")"
   ]
  },
  {
   "cell_type": "markdown",
   "id": "cfb9b284",
   "metadata": {},
   "source": [
    "### Grupos Telegram"
   ]
  },
  {
   "cell_type": "markdown",
   "id": "afadcf88",
   "metadata": {},
   "source": [
    "Para este trabalho de classificação, usaremos uma base de quase 8 mil grupos do telegram, dos quais foram extraídas as cinco primeiras mensagens. Nosso objetivo é, apenas com essa informação e a respectiva classificação em grupo bolsonarista e não bolsonarista, construir um modelo que identifique com a maior acurácia possível se o grupo é bolsonarista ou não."
   ]
  },
  {
   "cell_type": "code",
   "execution_count": 3,
   "id": "347bd463",
   "metadata": {
    "code_folding": [
     0
    ]
   },
   "outputs": [
    {
     "data": {
      "text/html": [
       "<div>\n",
       "<style scoped>\n",
       "    .dataframe tbody tr th:only-of-type {\n",
       "        vertical-align: middle;\n",
       "    }\n",
       "\n",
       "    .dataframe tbody tr th {\n",
       "        vertical-align: top;\n",
       "    }\n",
       "\n",
       "    .dataframe thead th {\n",
       "        text-align: right;\n",
       "    }\n",
       "</style>\n",
       "<table border=\"1\" class=\"dataframe\">\n",
       "  <thead>\n",
       "    <tr style=\"text-align: right;\">\n",
       "      <th></th>\n",
       "      <th>classe</th>\n",
       "      <th>mensagem</th>\n",
       "    </tr>\n",
       "  </thead>\n",
       "  <tbody>\n",
       "    <tr>\n",
       "      <th>0</th>\n",
       "      <td>bolsonarista</td>\n",
       "      <td>EUA afirmam que Brasil será o próximo a inicia...</td>\n",
       "    </tr>\n",
       "  </tbody>\n",
       "</table>\n",
       "</div>"
      ],
      "text/plain": [
       "         classe                                           mensagem\n",
       "0  bolsonarista  EUA afirmam que Brasil será o próximo a inicia..."
      ]
     },
     "execution_count": 3,
     "metadata": {},
     "output_type": "execute_result"
    }
   ],
   "source": [
    "# import grupos telegram\n",
    "\n",
    "import pandas as pd\n",
    "\n",
    "df_telegram_cru = pd.read_csv('grupos_com_mensagens_telegram.csv').drop('chat_id', axis=1)\n",
    "\n",
    "df_telegram = df_telegram_cru.copy()\n",
    "df_telegram[df_telegram.columns[3:]] = df_telegram[df_telegram.columns[3:]].astype(str)\n",
    "df_telegram['mensagem'] = df_telegram[df_telegram.columns[3:]].agg(' '.join, axis=1)\n",
    "df_telegram = df_telegram[['classe', 'mensagem']]\n",
    "df_telegram.head(1)"
   ]
  },
  {
   "cell_type": "code",
   "execution_count": 4,
   "id": "927beca4",
   "metadata": {
    "code_folding": [
     0
    ]
   },
   "outputs": [
    {
     "data": {
      "text/html": [
       "<div>\n",
       "<style scoped>\n",
       "    .dataframe tbody tr th:only-of-type {\n",
       "        vertical-align: middle;\n",
       "    }\n",
       "\n",
       "    .dataframe tbody tr th {\n",
       "        vertical-align: top;\n",
       "    }\n",
       "\n",
       "    .dataframe thead th {\n",
       "        text-align: right;\n",
       "    }\n",
       "</style>\n",
       "<table border=\"1\" class=\"dataframe\">\n",
       "  <thead>\n",
       "    <tr style=\"text-align: right;\">\n",
       "      <th></th>\n",
       "      <th>mensagem</th>\n",
       "    </tr>\n",
       "    <tr>\n",
       "      <th>classe</th>\n",
       "      <th></th>\n",
       "    </tr>\n",
       "  </thead>\n",
       "  <tbody>\n",
       "    <tr>\n",
       "      <th>bolsonarista</th>\n",
       "      <td>2343</td>\n",
       "    </tr>\n",
       "    <tr>\n",
       "      <th>indefinido</th>\n",
       "      <td>344</td>\n",
       "    </tr>\n",
       "    <tr>\n",
       "      <th>não-bolsonarista</th>\n",
       "      <td>5199</td>\n",
       "    </tr>\n",
       "  </tbody>\n",
       "</table>\n",
       "</div>"
      ],
      "text/plain": [
       "                  mensagem\n",
       "classe                    \n",
       "bolsonarista          2343\n",
       "indefinido             344\n",
       "não-bolsonarista      5199"
      ]
     },
     "execution_count": 4,
     "metadata": {},
     "output_type": "execute_result"
    }
   ],
   "source": [
    "# classe por id\n",
    "df_telegram.groupby(['classe']).count()"
   ]
  },
  {
   "cell_type": "markdown",
   "id": "56e4c884",
   "metadata": {},
   "source": [
    "Vamos considerar apenas bolsonaristas e não bolsonaristas neste estudo. Os bolsonaristas estarão identificados como \"B\" ou 1, e os não bolsonaristas, \"NB\" ou 0."
   ]
  },
  {
   "cell_type": "code",
   "execution_count": 5,
   "id": "64666e92",
   "metadata": {
    "code_folding": [
     0
    ]
   },
   "outputs": [
    {
     "data": {
      "text/html": [
       "<div>\n",
       "<style scoped>\n",
       "    .dataframe tbody tr th:only-of-type {\n",
       "        vertical-align: middle;\n",
       "    }\n",
       "\n",
       "    .dataframe tbody tr th {\n",
       "        vertical-align: top;\n",
       "    }\n",
       "\n",
       "    .dataframe thead th {\n",
       "        text-align: right;\n",
       "    }\n",
       "</style>\n",
       "<table border=\"1\" class=\"dataframe\">\n",
       "  <thead>\n",
       "    <tr style=\"text-align: right;\">\n",
       "      <th></th>\n",
       "      <th>mensagem</th>\n",
       "      <th>classificacao</th>\n",
       "    </tr>\n",
       "  </thead>\n",
       "  <tbody>\n",
       "    <tr>\n",
       "      <th>0</th>\n",
       "      <td>EUA afirmam que Brasil será o próximo a inicia...</td>\n",
       "      <td>B</td>\n",
       "    </tr>\n",
       "    <tr>\n",
       "      <th>1</th>\n",
       "      <td>Bom dia REPASSE O MÁXIMO POSSÍVEL, ASSIM MANTE...</td>\n",
       "      <td>B</td>\n",
       "    </tr>\n",
       "    <tr>\n",
       "      <th>2</th>\n",
       "      <td>Bom dia grupo Bom dia Oi Bom dia galera Boa no...</td>\n",
       "      <td>NB</td>\n",
       "    </tr>\n",
       "    <tr>\n",
       "      <th>3</th>\n",
       "      <td>Bom dia graça e a paz do senhor Jesus Cristo à...</td>\n",
       "      <td>NB</td>\n",
       "    </tr>\n",
       "    <tr>\n",
       "      <th>4</th>\n",
       "      <td>🤣🤣🤣 *LECH WALESA &amp; LULA: DUAS PARTES DA MESMA ...</td>\n",
       "      <td>NB</td>\n",
       "    </tr>\n",
       "  </tbody>\n",
       "</table>\n",
       "</div>"
      ],
      "text/plain": [
       "                                            mensagem classificacao\n",
       "0  EUA afirmam que Brasil será o próximo a inicia...             B\n",
       "1  Bom dia REPASSE O MÁXIMO POSSÍVEL, ASSIM MANTE...             B\n",
       "2  Bom dia grupo Bom dia Oi Bom dia galera Boa no...            NB\n",
       "3  Bom dia graça e a paz do senhor Jesus Cristo à...            NB\n",
       "4  🤣🤣🤣 *LECH WALESA & LULA: DUAS PARTES DA MESMA ...            NB"
      ]
     },
     "execution_count": 5,
     "metadata": {},
     "output_type": "execute_result"
    }
   ],
   "source": [
    "# base\n",
    "\n",
    "base = df_telegram[df_telegram['classe'].isin(['bolsonarista', 'não-bolsonarista'])].copy()\n",
    "base.loc[base['classe'] == 'bolsonarista', 'classificacao'] = 'B'\n",
    "base.loc[base['classe'] == 'não-bolsonarista', 'classificacao'] = 'NB'\n",
    "\n",
    "base = base[['mensagem', 'classificacao']]\n",
    "\n",
    "base.head()"
   ]
  },
  {
   "cell_type": "markdown",
   "id": "36b7021d",
   "metadata": {
    "heading_collapsed": true
   },
   "source": [
    "#### Pré Processamento"
   ]
  },
  {
   "cell_type": "code",
   "execution_count": 6,
   "id": "6776a26d",
   "metadata": {
    "code_folding": [
     0
    ],
    "hidden": true
   },
   "outputs": [
    {
     "name": "stderr",
     "output_type": "stream",
     "text": [
      "[nltk_data] Downloading package punkt to\n",
      "[nltk_data]     C:\\Users\\tomcat2064\\AppData\\Roaming\\nltk_data...\n",
      "[nltk_data]   Package punkt is already up-to-date!\n",
      "[nltk_data] Downloading package stopwords to\n",
      "[nltk_data]     C:\\Users\\tomcat2064\\AppData\\Roaming\\nltk_data...\n",
      "[nltk_data]   Package stopwords is already up-to-date!\n"
     ]
    }
   ],
   "source": [
    "# imports bibliotecas\n",
    "\n",
    "import itertools\n",
    "from collections import Counter\n",
    "from numpy import prod\n",
    "from math import log\n",
    "\n",
    "import nltk\n",
    "nltk.download('punkt')\n",
    "from nltk import tokenize \n",
    "nltk.download('stopwords')\n",
    "stops = nltk.corpus.stopwords.words('portuguese')\n",
    "\n",
    "stops.remove('não')"
   ]
  },
  {
   "cell_type": "code",
   "execution_count": 7,
   "id": "6fef8c4b",
   "metadata": {
    "code_folding": [
     0
    ],
    "hidden": true
   },
   "outputs": [],
   "source": [
    "# pre processamento\n",
    "\n",
    "def tokenizar(str_texto):\n",
    "    return tokenize.word_tokenize(str_texto, language='portuguese')\n",
    "\n",
    "\n",
    "def sem_stops(lst_palavras):\n",
    "    return [p for p in lst_palavras if p not in stops]\n",
    "\n",
    "\n",
    "def limpar(lista):\n",
    "    return [i.lower() for i in lista if i.isalpha()]\n",
    "\n",
    "\n",
    "def pre_processar(str_texto):\n",
    "    return sem_stops(limpar(tokenizar(str_texto)))\n",
    "\n",
    "\n",
    "def achatar(lista):\n",
    "    return list(itertools.chain(*lista))"
   ]
  },
  {
   "cell_type": "code",
   "execution_count": 8,
   "id": "b0a37f19",
   "metadata": {
    "code_folding": [
     0
    ],
    "hidden": true
   },
   "outputs": [],
   "source": [
    "# corpus\n",
    "\n",
    "base_dict = base.to_dict('records')\n",
    "corpus = [(pre_processar(val['mensagem']), val['classificacao']) for val in base_dict]"
   ]
  },
  {
   "cell_type": "code",
   "execution_count": 9,
   "id": "1abaa858",
   "metadata": {
    "code_folding": [
     0
    ],
    "hidden": true
   },
   "outputs": [],
   "source": [
    "# separacao texto e classificacoes\n",
    "\n",
    "import numpy as np\n",
    "\n",
    "matrix = np.array(corpus)\n",
    "simple_texts = matrix[:, 0]\n",
    "texts = np.array([' '.join(msg) for msg in simple_texts])\n",
    "\n",
    "labels = matrix[:, 1]"
   ]
  },
  {
   "cell_type": "markdown",
   "id": "09996caf",
   "metadata": {
    "heading_collapsed": true
   },
   "source": [
    "#### Primeira Abordagem: Classificador Bayesiano Ingênuo"
   ]
  },
  {
   "cell_type": "code",
   "execution_count": 10,
   "id": "302d65de",
   "metadata": {
    "code_folding": [
     0
    ],
    "hidden": true
   },
   "outputs": [
    {
     "data": {
      "text/plain": [
       "(7542, 23521)"
      ]
     },
     "execution_count": 10,
     "metadata": {},
     "output_type": "execute_result"
    }
   ],
   "source": [
    "# vectors\n",
    "from sklearn.feature_extraction.text import CountVectorizer\n",
    "from sklearn.naive_bayes import MultinomialNB\n",
    "\n",
    "vetor = CountVectorizer()\n",
    "X_texts = vetor.fit_transform(texts).toarray()\n",
    "\n",
    "X_texts.shape"
   ]
  },
  {
   "cell_type": "code",
   "execution_count": 11,
   "id": "20075409",
   "metadata": {
    "code_folding": [
     0
    ],
    "hidden": true
   },
   "outputs": [],
   "source": [
    "# separacao treino-teste\n",
    "\n",
    "from sklearn.model_selection import train_test_split\n",
    "\n",
    "X_train, X_test, y_train, y_test = train_test_split(X_texts, labels, test_size=0.3, stratify=labels, random_state=42)"
   ]
  },
  {
   "cell_type": "code",
   "execution_count": 12,
   "id": "ff75ad5e",
   "metadata": {
    "hidden": true
   },
   "outputs": [
    {
     "data": {
      "text/plain": [
       "(5279, 23521)"
      ]
     },
     "execution_count": 12,
     "metadata": {},
     "output_type": "execute_result"
    }
   ],
   "source": [
    "X_train.shape"
   ]
  },
  {
   "cell_type": "code",
   "execution_count": 13,
   "id": "42afec8a",
   "metadata": {
    "hidden": true
   },
   "outputs": [
    {
     "data": {
      "text/plain": [
       "(2263, 23521)"
      ]
     },
     "execution_count": 13,
     "metadata": {},
     "output_type": "execute_result"
    }
   ],
   "source": [
    "X_test.shape"
   ]
  },
  {
   "cell_type": "code",
   "execution_count": 14,
   "id": "4a806dcd",
   "metadata": {
    "code_folding": [
     0
    ],
    "hidden": true
   },
   "outputs": [
    {
     "data": {
      "text/plain": [
       "MultinomialNB()"
      ]
     },
     "execution_count": 14,
     "metadata": {},
     "output_type": "execute_result"
    }
   ],
   "source": [
    "# separacao treino-teste\n",
    "\n",
    "model = MultinomialNB()\n",
    "model.fit(X_train, y_train)"
   ]
  },
  {
   "cell_type": "code",
   "execution_count": 15,
   "id": "ac3f469d",
   "metadata": {
    "code_folding": [
     0
    ],
    "hidden": true
   },
   "outputs": [
    {
     "data": {
      "text/plain": [
       "'              precision    recall  f1-score   support\\n\\n           B       0.77      0.62      0.69       703\\n          NB       0.84      0.92      0.88      1560\\n\\n    accuracy                           0.83      2263\\n   macro avg       0.81      0.77      0.78      2263\\nweighted avg       0.82      0.83      0.82      2263\\n'"
      ]
     },
     "execution_count": 15,
     "metadata": {},
     "output_type": "execute_result"
    }
   ],
   "source": [
    "# métricas - precisão, sensibilidade, f1\n",
    "from sklearn.metrics import classification_report\n",
    "\n",
    "predict_nb = model.predict(X_test)\n",
    "classification_report(y_test, predict_nb)"
   ]
  },
  {
   "cell_type": "code",
   "execution_count": 16,
   "id": "f559afb2",
   "metadata": {
    "code_folding": [
     0
    ],
    "hidden": true
   },
   "outputs": [
    {
     "data": {
      "text/plain": [
       "<sklearn.metrics._plot.confusion_matrix.ConfusionMatrixDisplay at 0x21615791370>"
      ]
     },
     "execution_count": 16,
     "metadata": {},
     "output_type": "execute_result"
    },
    {
     "data": {
      "image/png": "[encoded data removed]",
      "text/plain": [
       "<Figure size 432x288 with 2 Axes>"
      ]
     },
     "metadata": {
      "needs_background": "light"
     },
     "output_type": "display_data"
    }
   ],
   "source": [
    "# matriz de confusão\n",
    "from sklearn.metrics import confusion_matrix\n",
    "import matplotlib.pyplot as plt\n",
    "from sklearn.metrics import plot_confusion_matrix\n",
    "\n",
    "plot_confusion_matrix(model, X_test, y_test)"
   ]
  },
  {
   "cell_type": "code",
   "execution_count": 17,
   "id": "75b4fb65",
   "metadata": {
    "code_folding": [
     0
    ],
    "hidden": true
   },
   "outputs": [],
   "source": [
    "# Para comparação posterior\n",
    "X_test_nb = X_test.copy()\n",
    "y_test_nb = y_test.copy()"
   ]
  },
  {
   "cell_type": "markdown",
   "id": "0cb28901",
   "metadata": {
    "heading_collapsed": true
   },
   "source": [
    "#### Segunda Abordagem: Redes Neurais"
   ]
  },
  {
   "cell_type": "code",
   "execution_count": 18,
   "id": "c4d10925",
   "metadata": {
    "code_folding": [
     0
    ],
    "hidden": true
   },
   "outputs": [],
   "source": [
    "# índice de palavras\n",
    "vocab = set([word for text in simple_texts for word in text])\n",
    "word_index = {word: e+1 for e, word in enumerate(vocab)}\n",
    "vec_msg = np.array([[word_index[word] for word in text] for text in simple_texts], dtype=object)"
   ]
  },
  {
   "cell_type": "code",
   "execution_count": 19,
   "id": "67cef644",
   "metadata": {
    "code_folding": [
     0,
     1
    ],
    "hidden": true
   },
   "outputs": [],
   "source": [
    "# Codificação binária\n",
    "def binarizer(matriz_int, dim=len(vocab)+1):\n",
    "    binarized = np.zeros((len(matriz_int), dim))\n",
    "    for e, vetor in enumerate(matriz_int):\n",
    "        binarized[e, vetor] = 1.\n",
    "\n",
    "    return binarized\n",
    "\n",
    "vec_msg_bin = binarizer(vec_msg)"
   ]
  },
  {
   "cell_type": "code",
   "execution_count": 20,
   "id": "628e319f",
   "metadata": {
    "code_folding": [
     0
    ],
    "hidden": true
   },
   "outputs": [],
   "source": [
    "# Etiquetas: string -> boolean\n",
    "labels_bin = labels.copy()\n",
    "\n",
    "labels_bin[labels_bin == 'B'] = 1\n",
    "labels_bin[labels_bin == 'NB'] = 0\n",
    "\n",
    "labels_bin = labels_bin.astype(int)"
   ]
  },
  {
   "cell_type": "code",
   "execution_count": 21,
   "id": "1f1637c6",
   "metadata": {
    "code_folding": [
     0
    ],
    "hidden": true
   },
   "outputs": [],
   "source": [
    "# separacao treino-teste\n",
    "\n",
    "from sklearn.model_selection import train_test_split\n",
    "\n",
    "X_train, X_test, y_train, y_test = train_test_split(vec_msg_bin, labels_bin, test_size=0.3, \n",
    "                                                    stratify=labels_bin, random_state=42)"
   ]
  },
  {
   "cell_type": "code",
   "execution_count": 22,
   "id": "b343f7ea",
   "metadata": {
    "code_folding": [
     0
    ],
    "hidden": true,
    "scrolled": true
   },
   "outputs": [
    {
     "name": "stdout",
     "output_type": "stream",
     "text": [
      "Epoch 1/20\n",
      "11/11 [==============================] - 2s 58ms/step - loss: 0.6640 - acc: 0.7676 - val_loss: 0.6114 - val_acc: 0.8378\n",
      "Epoch 2/20\n",
      "11/11 [==============================] - 0s 31ms/step - loss: 0.5468 - acc: 0.8657 - val_loss: 0.5176 - val_acc: 0.8383\n",
      "Epoch 3/20\n",
      "11/11 [==============================] - 0s 30ms/step - loss: 0.4327 - acc: 0.8803 - val_loss: 0.4556 - val_acc: 0.8405\n",
      "Epoch 4/20\n",
      "11/11 [==============================] - 0s 30ms/step - loss: 0.3495 - acc: 0.8903 - val_loss: 0.4247 - val_acc: 0.8405\n",
      "Epoch 5/20\n",
      "11/11 [==============================] - 0s 31ms/step - loss: 0.2931 - acc: 0.9004 - val_loss: 0.4121 - val_acc: 0.8414\n",
      "Epoch 6/20\n",
      "11/11 [==============================] - 0s 31ms/step - loss: 0.2578 - acc: 0.9076 - val_loss: 0.4108 - val_acc: 0.8431\n",
      "Epoch 7/20\n",
      "11/11 [==============================] - 0s 31ms/step - loss: 0.2373 - acc: 0.9131 - val_loss: 0.4159 - val_acc: 0.8445\n",
      "Epoch 8/20\n",
      "11/11 [==============================] - 0s 33ms/step - loss: 0.2265 - acc: 0.9172 - val_loss: 0.4256 - val_acc: 0.8431\n",
      "Epoch 9/20\n",
      "11/11 [==============================] - 0s 31ms/step - loss: 0.2197 - acc: 0.9201 - val_loss: 0.4373 - val_acc: 0.8414\n",
      "Epoch 10/20\n",
      "11/11 [==============================] - 0s 34ms/step - loss: 0.2142 - acc: 0.9221 - val_loss: 0.4472 - val_acc: 0.8414\n",
      "Epoch 11/20\n",
      "11/11 [==============================] - 0s 30ms/step - loss: 0.2103 - acc: 0.9242 - val_loss: 0.4575 - val_acc: 0.8422\n",
      "Epoch 12/20\n",
      "11/11 [==============================] - 0s 34ms/step - loss: 0.2072 - acc: 0.9252 - val_loss: 0.4685 - val_acc: 0.8427\n",
      "Epoch 13/20\n",
      "11/11 [==============================] - 0s 30ms/step - loss: 0.2040 - acc: 0.9267 - val_loss: 0.4787 - val_acc: 0.8431\n",
      "Epoch 14/20\n",
      "11/11 [==============================] - 0s 33ms/step - loss: 0.2020 - acc: 0.9274 - val_loss: 0.4895 - val_acc: 0.8427\n",
      "Epoch 15/20\n",
      "11/11 [==============================] - 0s 30ms/step - loss: 0.1998 - acc: 0.9276 - val_loss: 0.5021 - val_acc: 0.8436\n",
      "Epoch 16/20\n",
      "11/11 [==============================] - 0s 31ms/step - loss: 0.1983 - acc: 0.9282 - val_loss: 0.5120 - val_acc: 0.8431\n",
      "Epoch 17/20\n",
      "11/11 [==============================] - 0s 32ms/step - loss: 0.1969 - acc: 0.9286 - val_loss: 0.5228 - val_acc: 0.8431\n",
      "Epoch 18/20\n",
      "11/11 [==============================] - 0s 31ms/step - loss: 0.1956 - acc: 0.9297 - val_loss: 0.5323 - val_acc: 0.8414\n",
      "Epoch 19/20\n",
      "11/11 [==============================] - 0s 29ms/step - loss: 0.1945 - acc: 0.9303 - val_loss: 0.5429 - val_acc: 0.8414\n",
      "Epoch 20/20\n",
      "11/11 [==============================] - 0s 28ms/step - loss: 0.1936 - acc: 0.9303 - val_loss: 0.5513 - val_acc: 0.8400\n"
     ]
    }
   ],
   "source": [
    "# Rede Neural\n",
    "\n",
    "from keras import models \n",
    "from keras import layers\n",
    "\n",
    "nn = models.Sequential() \n",
    "nn.add(layers.Dense(32, activation='relu', input_shape=(X_train.shape[1],))) \n",
    "nn.add(layers.Dense(32, activation='relu')) \n",
    "nn.add(layers.Dense(1, activation='sigmoid'))\n",
    "\n",
    "nn.compile(optimizer='adam', \n",
    "           loss='binary_crossentropy', \n",
    "           metrics=['acc'])\n",
    "\n",
    "neural_network = nn.fit(X_train, \n",
    "                        y_train, \n",
    "                        epochs=20, \n",
    "                        batch_size=512, \n",
    "                        validation_data=(X_test, y_test))"
   ]
  },
  {
   "cell_type": "code",
   "execution_count": 23,
   "id": "dabdf84f",
   "metadata": {
    "code_folding": [
     0
    ],
    "hidden": true
   },
   "outputs": [
    {
     "data": {
      "image/png": "[encoded data removed]",
      "text/plain": [
       "<Figure size 432x288 with 1 Axes>"
      ]
     },
     "metadata": {
      "needs_background": "light"
     },
     "output_type": "display_data"
    }
   ],
   "source": [
    "# Acompanhamento da função perda\n",
    "\n",
    "import matplotlib.pyplot as plt\n",
    "\n",
    "dict_neural_network = neural_network.history\n",
    "loss = dict_neural_network['loss'] \n",
    "test_loss = dict_neural_network['val_loss']\n",
    "\n",
    "acc = dict_neural_network['acc']\n",
    "epochs = range(1, len(acc) + 1)\n",
    "\n",
    "plt.plot(epochs, loss, 'bo', label='Perda no treinamento')  # “bo” = pontilhado azul\n",
    "plt.plot(epochs, test_loss, 'b', label='Perda no teste')  # “b” = linha contínua azul\n",
    "plt.title('Perda no Treinamento e no Teste') \n",
    "plt.xlabel('Épocas')\n",
    "plt.ylabel('Perda')\n",
    "plt.legend()\n",
    "\n",
    "plt.show()"
   ]
  },
  {
   "cell_type": "code",
   "execution_count": 24,
   "id": "450724d0",
   "metadata": {
    "code_folding": [
     0
    ],
    "hidden": true
   },
   "outputs": [
    {
     "data": {
      "image/png": "[encoded data removed]",
      "text/plain": [
       "<Figure size 432x288 with 1 Axes>"
      ]
     },
     "metadata": {
      "needs_background": "light"
     },
     "output_type": "display_data"
    }
   ],
   "source": [
    "# Acompanhamento da função acurácia\n",
    "\n",
    "plt.clf()\n",
    "\n",
    "acc_train = dict_neural_network['acc'] \n",
    "acc_test = dict_neural_network['val_acc']\n",
    "\n",
    "plt.plot(epochs, acc_train, 'bo', label='Acurácia no Treinamento') \n",
    "plt.plot(epochs, acc_test, 'b', label='Acurácia no Teste')\n",
    "plt.title('Acurácia no Treinamento e no Teste') \n",
    "plt.xlabel('Épocas') \n",
    "plt.ylabel('Acurácia') \n",
    "plt.legend()\n",
    "\n",
    "plt.show()"
   ]
  },
  {
   "cell_type": "code",
   "execution_count": 25,
   "id": "8b03c062",
   "metadata": {
    "code_folding": [
     0
    ],
    "hidden": true
   },
   "outputs": [
    {
     "name": "stdout",
     "output_type": "stream",
     "text": [
      "71/71 [==============================] - 0s 2ms/step\n"
     ]
    }
   ],
   "source": [
    "# Predicoes\n",
    "nn_predict = nn.predict(X_test)\n",
    "predicted_val = [round(val[0]) for val in nn_predict.tolist()]"
   ]
  },
  {
   "cell_type": "code",
   "execution_count": 26,
   "id": "5410a0dc",
   "metadata": {
    "code_folding": [
     0
    ],
    "hidden": true
   },
   "outputs": [],
   "source": [
    "# Predicoes comparáveis: 1 -> B e 0 -> NB\n",
    "predicted_val_str = predicted_val.copy()\n",
    "predicted_val_str = np.array(predicted_val_str).astype(object)\n",
    "\n",
    "predicted_val_str[predicted_val_str == 1] = 'B'\n",
    "predicted_val_str[predicted_val_str == 0] = 'NB'\n",
    "\n",
    "y_test_str = y_test.copy()\n",
    "y_test_str = y_test_str.astype(object)\n",
    "\n",
    "y_test_str[y_test_str == 1] = 'B'\n",
    "y_test_str[y_test_str == 0] = 'NB'"
   ]
  },
  {
   "cell_type": "code",
   "execution_count": 27,
   "id": "91baba77",
   "metadata": {
    "code_folding": [
     0
    ],
    "hidden": true
   },
   "outputs": [
    {
     "name": "stdout",
     "output_type": "stream",
     "text": [
      "              precision    recall  f1-score   support\n",
      "\n",
      "           B       0.81      0.64      0.71       703\n",
      "          NB       0.85      0.93      0.89      1560\n",
      "\n",
      "    accuracy                           0.84      2263\n",
      "   macro avg       0.83      0.78      0.80      2263\n",
      "weighted avg       0.84      0.84      0.83      2263\n",
      "\n"
     ]
    }
   ],
   "source": [
    "# métricas - precisão, sensibilidade, f1\n",
    "print(classification_report(y_test_str, predicted_val_str))"
   ]
  },
  {
   "cell_type": "code",
   "execution_count": 28,
   "id": "14b9b2a7",
   "metadata": {
    "code_folding": [
     0
    ],
    "hidden": true
   },
   "outputs": [
    {
     "data": {
      "image/png": "[encoded data removed]",
      "text/plain": [
       "<Figure size 432x288 with 2 Axes>"
      ]
     },
     "metadata": {
      "needs_background": "light"
     },
     "output_type": "display_data"
    }
   ],
   "source": [
    "# matriz de confusão\n",
    "import seaborn as sn\n",
    "import pandas as pd\n",
    "import matplotlib.pyplot as plt\n",
    "\n",
    "import sklearn.metrics\n",
    "\n",
    "cm = sklearn.metrics.confusion_matrix(y_test_str, predicted_val_str)\n",
    "df_cm = pd.DataFrame(cm, range(2), range(2))\n",
    "df_cm.columns = ['B', 'NB']\n",
    "df_cm.rename(index={0: 'B', 1: 'NB'}, inplace=True)\n",
    "\n",
    "sn.heatmap(df_cm, annot=True, annot_kws={\"size\": 16}, fmt='g')\n",
    "\n",
    "plt.show()"
   ]
  },
  {
   "cell_type": "markdown",
   "id": "63bf6796",
   "metadata": {},
   "source": [
    "#### Comparação de perfomances: Classificador Bayesiano Ingênuo x Redes Neurais"
   ]
  },
  {
   "cell_type": "code",
   "execution_count": 29,
   "id": "47a2ef33",
   "metadata": {
    "code_folding": [
     0
    ]
   },
   "outputs": [
    {
     "name": "stdout",
     "output_type": "stream",
     "text": [
      "              precision    recall  f1-score   support\n",
      "\n",
      "           B       0.77      0.62      0.69       703\n",
      "          NB       0.84      0.92      0.88      1560\n",
      "\n",
      "    accuracy                           0.83      2263\n",
      "   macro avg       0.81      0.77      0.78      2263\n",
      "weighted avg       0.82      0.83      0.82      2263\n",
      "\n"
     ]
    }
   ],
   "source": [
    "# métricas - precisão, sensibilidade, f1 - Classificador Bayesiano Ingênuo\n",
    "print(classification_report(y_test_nb, predict_nb))"
   ]
  },
  {
   "cell_type": "code",
   "execution_count": 30,
   "id": "45674940",
   "metadata": {
    "code_folding": [
     0
    ]
   },
   "outputs": [
    {
     "name": "stdout",
     "output_type": "stream",
     "text": [
      "              precision    recall  f1-score   support\n",
      "\n",
      "           B       0.81      0.64      0.71       703\n",
      "          NB       0.85      0.93      0.89      1560\n",
      "\n",
      "    accuracy                           0.84      2263\n",
      "   macro avg       0.83      0.78      0.80      2263\n",
      "weighted avg       0.84      0.84      0.83      2263\n",
      "\n"
     ]
    }
   ],
   "source": [
    "# métricas - precisão, sensibilidade, f1 - Redes Neurais\n",
    "print(classification_report(y_test_str, predicted_val_str))"
   ]
  },
  {
   "cell_type": "code",
   "execution_count": 31,
   "id": "5b9e86d9",
   "metadata": {
    "code_folding": [
     0
    ]
   },
   "outputs": [
    {
     "data": {
      "text/plain": [
       "<sklearn.metrics._plot.confusion_matrix.ConfusionMatrixDisplay at 0x21613f0bcd0>"
      ]
     },
     "execution_count": 31,
     "metadata": {},
     "output_type": "execute_result"
    },
    {
     "data": {
      "image/png": "[encoded data removed]",
      "text/plain": [
       "<Figure size 432x288 with 2 Axes>"
      ]
     },
     "metadata": {
      "needs_background": "light"
     },
     "output_type": "display_data"
    }
   ],
   "source": [
    "# matriz de confusão - Classificador Bayesiano Ingênuo\n",
    "plot_confusion_matrix(model, X_test_nb, y_test_nb)"
   ]
  },
  {
   "cell_type": "code",
   "execution_count": 32,
   "id": "9e704ace",
   "metadata": {
    "code_folding": [
     0
    ]
   },
   "outputs": [
    {
     "data": {
      "image/png": "[encoded data removed]",
      "text/plain": [
       "<Figure size 432x288 with 2 Axes>"
      ]
     },
     "metadata": {
      "needs_background": "light"
     },
     "output_type": "display_data"
    }
   ],
   "source": [
    "# matriz de confusão - Redes Neurais\n",
    "sn.heatmap(df_cm, annot=True, annot_kws={\"size\": 16}, fmt='g')\n",
    "\n",
    "plt.show()"
   ]
  }
 ],
 "metadata": {
  "kernelspec": {
   "display_name": "Python 3 (ipykernel)",
   "language": "python",
   "name": "python3"
  },
  "language_info": {
   "codemirror_mode": {
    "name": "ipython",
    "version": 3
   },
   "file_extension": ".py",
   "mimetype": "text/x-python",
   "name": "python",
   "nbconvert_exporter": "python",
   "pygments_lexer": "ipython3",
   "version": "3.9.12"
  }
 },
 "nbformat": 4,
 "nbformat_minor": 5
}
